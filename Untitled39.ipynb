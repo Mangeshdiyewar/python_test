{
 "cells": [
  {
   "cell_type": "code",
   "execution_count": 5,
   "id": "99849744",
   "metadata": {},
   "outputs": [],
   "source": [
    "def longest_common_substring(s1,s2):\n",
    "    m= len(s1)\n",
    "    n= len(s2)\n",
    "    result =0\n",
    "    end = 0\n",
    "    length =[[0 for x in range(n+1)] for y in range(m+1)]\n",
    "    for i in range(m+1):\n",
    "        for j in range(n+1):\n",
    "            if i ==0 or j==0:\n",
    "                length[i][j] = 0\n",
    "            elif s1[i-1]==s2[j-1]:\n",
    "                length[i][j]=length[i-1][j-1] +1\n",
    "                if length[i][j]>result :\n",
    "                    result = length[i][j]\n",
    "                    end = i-1\n",
    "                else :\n",
    "                    length[i][j]= 0\n",
    "                    \n",
    "    if result ==0:\n",
    "        return \"\"\n",
    "    else:\n",
    "        return s1[end - result +1: end+1]\n",
    "            "
   ]
  },
  {
   "cell_type": "code",
   "execution_count": 7,
   "id": "a33c204d",
   "metadata": {},
   "outputs": [
    {
     "data": {
      "text/plain": [
       "''"
      ]
     },
     "execution_count": 7,
     "metadata": {},
     "output_type": "execute_result"
    }
   ],
   "source": [
    "s1 =\"abcdefgh\"\n",
    "s2 = \"xyz\"\n",
    "longest_common_substring(s1,s2)"
   ]
  },
  {
   "cell_type": "code",
   "execution_count": null,
   "id": "6ade80f6",
   "metadata": {},
   "outputs": [],
   "source": []
  }
 ],
 "metadata": {
  "kernelspec": {
   "display_name": "Python 3 (ipykernel)",
   "language": "python",
   "name": "python3"
  },
  "language_info": {
   "codemirror_mode": {
    "name": "ipython",
    "version": 3
   },
   "file_extension": ".py",
   "mimetype": "text/x-python",
   "name": "python",
   "nbconvert_exporter": "python",
   "pygments_lexer": "ipython3",
   "version": "3.9.7"
  }
 },
 "nbformat": 4,
 "nbformat_minor": 5
}
