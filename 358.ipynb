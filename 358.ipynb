{
 "cells": [
  {
   "cell_type": "markdown",
   "id": "d4c8a990",
   "metadata": {},
   "source": [
    "\n",
    " ### Implement a Python function that takes a list of integers and a target number as input, and returns a tuple of two integers that add up to the target number."
   ]
  },
  {
   "cell_type": "code",
   "execution_count": 15,
   "id": "5382157c",
   "metadata": {},
   "outputs": [],
   "source": [
    "def two_sums(nums,target):\n",
    "    for i in range(len(nums)):\n",
    "        for j in range(i+1,len(nums)):\n",
    "            if nums[i]+ nums[j] == target :\n",
    "                return (nums[i], nums[j])\n",
    "                return None\n",
    "            "
   ]
  },
  {
   "cell_type": "code",
   "execution_count": 16,
   "id": "daeaeac7",
   "metadata": {},
   "outputs": [
    {
     "data": {
      "text/plain": [
       "(1, 6)"
      ]
     },
     "execution_count": 16,
     "metadata": {},
     "output_type": "execute_result"
    }
   ],
   "source": [
    "nums =[1,2,3,4,5,6,7]\n",
    "target = 7\n",
    "two_sums(nums,target)"
   ]
  },
  {
   "cell_type": "code",
   "execution_count": null,
   "id": "561aad54",
   "metadata": {},
   "outputs": [],
   "source": []
  }
 ],
 "metadata": {
  "kernelspec": {
   "display_name": "Python 3 (ipykernel)",
   "language": "python",
   "name": "python3"
  },
  "language_info": {
   "codemirror_mode": {
    "name": "ipython",
    "version": 3
   },
   "file_extension": ".py",
   "mimetype": "text/x-python",
   "name": "python",
   "nbconvert_exporter": "python",
   "pygments_lexer": "ipython3",
   "version": "3.9.7"
  }
 },
 "nbformat": 4,
 "nbformat_minor": 5
}
